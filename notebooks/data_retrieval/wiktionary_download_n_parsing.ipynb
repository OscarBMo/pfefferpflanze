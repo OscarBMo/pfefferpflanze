{
 "cells": [
  {
   "cell_type": "code",
   "execution_count": 1,
   "id": "5d147f2d-80d7-4b84-876f-f55b6c2aee3e",
   "metadata": {
    "execution": {
     "iopub.execute_input": "2023-02-20T19:34:33.959867Z",
     "iopub.status.busy": "2023-02-20T19:34:33.959486Z",
     "iopub.status.idle": "2023-02-20T19:35:22.590842Z",
     "shell.execute_reply": "2023-02-20T19:35:22.590040Z",
     "shell.execute_reply.started": "2023-02-20T19:34:33.959793Z"
    }
   },
   "outputs": [
    {
     "name": "stdout",
     "output_type": "stream",
     "text": [
      "--2023-02-20 19:34:34--  https://dumps.wikimedia.org/dewiktionary/20230201/dewiktionary-20230201-pages-articles.xml.bz2\n",
      "Resolving dumps.wikimedia.org (dumps.wikimedia.org)... 208.80.154.142, 2620:0:861:2:208:80:154:142\n",
      "Connecting to dumps.wikimedia.org (dumps.wikimedia.org)|208.80.154.142|:443... connected.\n",
      "HTTP request sent, awaiting response... 200 OK\n",
      "Length: 206274696 (197M) [application/octet-stream]\n",
      "Saving to: ‘dewiktionary-20230201-pages-articles.xml.bz2’\n",
      "\n",
      "dewiktionary-202302 100%[===================>] 196.72M  4.18MB/s    in 48s     \n",
      "\n",
      "2023-02-20 19:35:22 (4.11 MB/s) - ‘dewiktionary-20230201-pages-articles.xml.bz2’ saved [206274696/206274696]\n",
      "\n"
     ]
    }
   ],
   "source": [
    "!wget 'https://dumps.wikimedia.org/dewiktionary/20230201/dewiktionary-20230201-pages-articles.xml.bz2'\n",
    "!mkdir wiktionary_data\n",
    "!mv dewiktionary-20230201-pages-articles.xml.bz2 ./wiktionary_data\n",
    "!bunzip2 -k ./wiktionary_data/dewiktionary-20230201-pages-articles.xml.bz2\n",
    "!head -n 80 ./wiktionary_data/dewiktionary-20230201-pages-articles.xml"
   ]
  },
  {
   "cell_type": "code",
   "execution_count": 2,
   "id": "408dca5f-1d1f-448b-bc5c-e92adc42552b",
   "metadata": {
    "execution": {
     "iopub.execute_input": "2023-02-25T23:02:06.283920Z",
     "iopub.status.busy": "2023-02-25T23:02:06.283562Z",
     "iopub.status.idle": "2023-02-25T23:02:10.852708Z",
     "shell.execute_reply": "2023-02-25T23:02:10.851703Z",
     "shell.execute_reply.started": "2023-02-25T23:02:06.283920Z"
    }
   },
   "outputs": [
    {
     "name": "stdout",
     "output_type": "stream",
     "text": [
      "Collecting wiktionary_de_parser\n",
      "  Downloading wiktionary_de_parser-0.9.5-py3-none-any.whl (18 kB)\n",
      "Collecting lxml<5.0.0,>=4.9.1\n",
      "  Downloading lxml-4.9.2-cp39-cp39-manylinux_2_17_x86_64.manylinux2014_x86_64.manylinux_2_24_x86_64.whl (7.1 MB)\n",
      "\u001b[2K     \u001b[90m━━━━━━━━━━━━━━━━━━━━━━━━━━━━━━━━━━━━━━━━\u001b[0m \u001b[32m7.1/7.1 MB\u001b[0m \u001b[31m54.4 MB/s\u001b[0m eta \u001b[36m0:00:00\u001b[0m00:01\u001b[0m00:01\u001b[0m\n",
      "\u001b[?25hCollecting mwparserfromhell<0.7.0,>=0.6.4\n",
      "  Downloading mwparserfromhell-0.6.4-cp39-cp39-manylinux_2_5_x86_64.manylinux1_x86_64.manylinux_2_17_x86_64.manylinux2014_x86_64.whl (178 kB)\n",
      "\u001b[2K     \u001b[90m━━━━━━━━━━━━━━━━━━━━━━━━━━━━━━━━━━━━━━\u001b[0m \u001b[32m178.7/178.7 kB\u001b[0m \u001b[31m31.8 MB/s\u001b[0m eta \u001b[36m0:00:00\u001b[0m\n",
      "\u001b[?25hInstalling collected packages: mwparserfromhell, lxml, wiktionary_de_parser\n",
      "  Attempting uninstall: lxml\n",
      "    Found existing installation: lxml 4.5.0\n",
      "    Uninstalling lxml-4.5.0:\n",
      "      Successfully uninstalled lxml-4.5.0\n",
      "Successfully installed lxml-4.9.2 mwparserfromhell-0.6.4 wiktionary_de_parser-0.9.5\n",
      "\u001b[33mWARNING: Running pip as the 'root' user can result in broken permissions and conflicting behaviour with the system package manager. It is recommended to use a virtual environment instead: https://pip.pypa.io/warnings/venv\u001b[0m\u001b[33m\n",
      "\u001b[0m"
     ]
    }
   ],
   "source": [
    "# Explore the following library: https://github.com/gambolputty/wiktionary-de-parser\n",
    "!pip install wiktionary_de_parser"
   ]
  },
  {
   "cell_type": "code",
   "execution_count": 3,
   "id": "2086e509-0d9f-4137-ad99-51cf9c1ef94f",
   "metadata": {
    "execution": {
     "iopub.execute_input": "2023-02-25T23:02:10.854639Z",
     "iopub.status.busy": "2023-02-25T23:02:10.854295Z",
     "iopub.status.idle": "2023-02-25T23:14:07.923209Z",
     "shell.execute_reply": "2023-02-25T23:14:07.922095Z",
     "shell.execute_reply.started": "2023-02-25T23:02:10.854639Z"
    }
   },
   "outputs": [],
   "source": [
    "from wiktionary_de_parser import Parser\n",
    "\n",
    "bzfile_path = './wiktionary_data/dewiktionary-20230201-pages-articles.xml'\n",
    "\n",
    "# Pass a list with all extraction methods to the class constructor:\n",
    "i=0\n",
    "de_records = list()\n",
    "for record in Parser(bzfile_path):\n",
    "    # print(record['my_field'])\n",
    "    if \"lang_code\" in record:\n",
    "        if record[\"lang_code\"] == \"de\":\n",
    "            de_records.append(record)\n",
    "    # if i > 100:\n",
    "    #     break  \n",
    "    # i+=1"
   ]
  },
  {
   "cell_type": "code",
   "execution_count": 18,
   "id": "d143ed8a-ca4b-424c-86a0-39d3c0b8fb23",
   "metadata": {
    "execution": {
     "iopub.execute_input": "2023-02-25T15:35:46.883984Z",
     "iopub.status.busy": "2023-02-25T15:35:46.883581Z",
     "iopub.status.idle": "2023-02-25T15:35:46.893349Z",
     "shell.execute_reply": "2023-02-25T15:35:46.892441Z",
     "shell.execute_reply.started": "2023-02-25T15:35:46.883941Z"
    }
   },
   "outputs": [
    {
     "data": {
      "text/plain": [
       "{'title': 'Mai',\n",
       " 'lemma': 'Mai',\n",
       " 'inflected': False,\n",
       " 'lang': 'Niederdeutsch',\n",
       " 'syllables': ['Mai'],\n",
       " 'pos': {'Substantiv': []},\n",
       " 'ipa': ['maɪ̯']}"
      ]
     },
     "execution_count": 18,
     "metadata": {},
     "output_type": "execute_result"
    }
   ],
   "source": [
    "record"
   ]
  },
  {
   "cell_type": "code",
   "execution_count": 5,
   "id": "33bf42e7-40d2-451d-8809-828ac793de77",
   "metadata": {
    "execution": {
     "iopub.execute_input": "2023-02-25T23:19:16.480404Z",
     "iopub.status.busy": "2023-02-25T23:19:16.480051Z",
     "iopub.status.idle": "2023-02-25T23:19:16.491030Z",
     "shell.execute_reply": "2023-02-25T23:19:16.490296Z",
     "shell.execute_reply.started": "2023-02-25T23:19:16.480377Z"
    }
   },
   "outputs": [
    {
     "data": {
      "text/plain": [
       "{'title': 'Subregnum',\n",
       " 'lemma': 'Subregnum',\n",
       " 'inflected': False,\n",
       " 'lang': 'Deutsch',\n",
       " 'lang_code': 'de',\n",
       " 'syllables': ['Sub', 'reg', 'num'],\n",
       " 'pos': {'Substantiv': []},\n",
       " 'ipa': ['zʊpˈʁeːɡnʊm'],\n",
       " 'flexion': {'Genus': 'n',\n",
       "  'Nominativ Singular': 'Subregnum',\n",
       "  'Nominativ Plural': 'Subregna',\n",
       "  'Genitiv Singular': 'Subregnums',\n",
       "  'Genitiv Plural': 'Subregna',\n",
       "  'Dativ Singular': 'Subregnum',\n",
       "  'Dativ Plural': 'Subregna',\n",
       "  'Akkusativ Singular': 'Subregnum',\n",
       "  'Akkusativ Plural': 'Subregna'}}"
      ]
     },
     "execution_count": 5,
     "metadata": {},
     "output_type": "execute_result"
    }
   ],
   "source": [
    "de_records[2]"
   ]
  },
  {
   "cell_type": "code",
   "execution_count": 7,
   "id": "1bad0364-0c43-4bf6-bced-4bdb45788009",
   "metadata": {
    "execution": {
     "iopub.execute_input": "2023-02-25T23:22:03.406571Z",
     "iopub.status.busy": "2023-02-25T23:22:03.406230Z",
     "iopub.status.idle": "2023-02-25T23:22:03.412994Z",
     "shell.execute_reply": "2023-02-25T23:22:03.411924Z",
     "shell.execute_reply.started": "2023-02-25T23:22:03.406534Z"
    }
   },
   "outputs": [
    {
     "data": {
      "text/plain": [
       "842329"
      ]
     },
     "execution_count": 7,
     "metadata": {},
     "output_type": "execute_result"
    }
   ],
   "source": [
    "len(de_records)"
   ]
  },
  {
   "cell_type": "code",
   "execution_count": 6,
   "id": "1ec27d66-daff-4dc8-9874-3f63e9201e34",
   "metadata": {
    "execution": {
     "iopub.execute_input": "2023-02-25T23:19:19.733042Z",
     "iopub.status.busy": "2023-02-25T23:19:19.732659Z",
     "iopub.status.idle": "2023-02-25T23:22:03.404495Z",
     "shell.execute_reply": "2023-02-25T23:22:03.403621Z",
     "shell.execute_reply.started": "2023-02-25T23:19:19.733017Z"
    }
   },
   "outputs": [],
   "source": [
    "import pandas as pd\n",
    "\n",
    "def flatten_dict(d, parent_key='', sep='_'):\n",
    "    items = []\n",
    "    for k, v in d.items():\n",
    "        new_key = f\"{parent_key}{sep}{k}\" if parent_key else k\n",
    "        if isinstance(v, dict):\n",
    "            items.extend(flatten_dict(v, new_key, sep=sep).items())\n",
    "        else:\n",
    "            items.append((new_key, v))\n",
    "    return dict(items)\n",
    "\n",
    "# Now let us use the function above to flatten all dictionaries, so that we\n",
    "# can store the result as a pandas Dataframe\n",
    "\n",
    "de_records_flat = [\n",
    "    flatten_dict(dict_i) for dict_i in de_records\n",
    "]\n",
    "de_records_pd = pd.DataFrame(de_records_flat)\n",
    "de_records_pd.to_csv(\n",
    "    \"./wiktionary_data/de_wiktionary_pd.csv\", sep=\"|\", index=False\n",
    ")"
   ]
  },
  {
   "cell_type": "code",
   "execution_count": 9,
   "id": "0c7f1db8-f5ca-4381-90db-47d16e882108",
   "metadata": {
    "execution": {
     "iopub.execute_input": "2023-02-25T23:24:03.918294Z",
     "iopub.status.busy": "2023-02-25T23:24:03.917850Z",
     "iopub.status.idle": "2023-02-25T23:24:03.925661Z",
     "shell.execute_reply": "2023-02-25T23:24:03.924297Z",
     "shell.execute_reply.started": "2023-02-25T23:24:03.918250Z"
    }
   },
   "outputs": [
    {
     "data": {
      "text/plain": [
       "(842329, 354)"
      ]
     },
     "execution_count": 9,
     "metadata": {},
     "output_type": "execute_result"
    }
   ],
   "source": [
    "de_records_pd.shape"
   ]
  },
  {
   "cell_type": "code",
   "execution_count": 10,
   "id": "a04316e1-433b-4635-997d-a6802c6634b5",
   "metadata": {
    "execution": {
     "iopub.execute_input": "2023-02-25T23:24:16.026913Z",
     "iopub.status.busy": "2023-02-25T23:24:16.026490Z",
     "iopub.status.idle": "2023-02-25T23:24:16.034898Z",
     "shell.execute_reply": "2023-02-25T23:24:16.033818Z",
     "shell.execute_reply.started": "2023-02-25T23:24:16.026883Z"
    }
   },
   "outputs": [
    {
     "data": {
      "text/plain": [
       "Index(['title', 'lemma', 'inflected', 'lang', 'lang_code', 'syllables',\n",
       "       'pos_Substantiv', 'ipa', 'rhymes', 'flexion_Genus',\n",
       "       ...\n",
       "       'flexion_mini|1|[Jahhunderthalle Bochum:] „In der Inszenierung, die den riesigen ''Bühnenraum'' der Jahrhunderthalle voll ausnützt, ist - in einer Oper sonst nicht üblich - eine Mikrofonierung der Singstimmen nötig.“<ref>{{Per-Deutsche Welle | Online',\n",
       "       'flexion_mini|1|[Malzfabrik/Ering:] „Das [[alt]]e [[Gebäude]] hat seit seiner [[Stilllegung]] [[mehrmals]] die [[Besitzer]] [[wechseln|gewechselt]] und ist in einen [[stark]] ''reparaturbedürftigen'' [[Zustand]] mit [[Sanierungsstau]] [[kommen|gekommen]].“<ref>{{Per-Bayerischer Rundfunk | Online',\n",
       "       'flexion_mini|1|„Aus [[Sicht]] der [[EU]] ist die [[Türkei]] [[für]] [[Flüchtling]]e ein [[sicher]]es ''Drittland,'' dabei [[flüchten]] selbst [[Türken]] aus Erdogans [[Staat]].“<ref>{{Per-Deutsche Welle | Online',\n",
       "       'flexion_mini|1|„Wer der [[Vorfahrtsstraße]] [[folgen|folgt]], [[ändern|ändert]] dabei seine [[Fahrtrichtung]]. [[abbiegend|Abbiegende]] [[Fahrzeug]]e [[muss|müssen]] den ''Richtungswechsel'' [[kenntlich]] [[machen]]. Fahrzeuge, die [[geradeaus]] [[fahren]] und dabei die Vorfahrtsstraße jeweils [[verlassen]] oder [[auffahren]], müssen keinen ''Richtungswechsel'' kenntlich machen. Im [[Kfz]] wird der ''Richtungswechsel'' mit den [[Fahrtrichtungsanzeiger]]n (\"[[Blinker]]\"), auf dem [[Fahrrad]] mit [[Handzeichen]] [[ankündigen|angekündigt]].“<ref>{{Wikipedia|Abknickende Vorfahrt|oldid',\n",
       "       'flexion_mini|1|„Im Gebäude mit dem L-förmigen Grundriss wurden diese zwei Bereiche in zwei Flügeln untergebracht. Verbunden miteinander sind sie durch das Stiegenhaus im markanten ''Eckturm.''“<ref>{{Internetquelle | url',\n",
       "       'flexion_mini|2|[[Elektroverdampfer]] mit Pyrethroid-Plättchen: Elektroverdampfer werden auf [[zwei]] [[Gebiet]]en [[anwenden|angewandt]]: Zum einen zur [[Raumluftparfümierung]], zum anderen zur [[Fernhaltung]] von [[Insekt]]en ''(Insektenschutz).''<ref>{{Wikipedia|Elektroverdampfer|oldid',\n",
       "       'flexion_mini|1|„[[Umzugsunternehmen]] [[einsetzen|setzen]] [[üblicherweise]] ''Faltkartons'' ein.“<ref>{{Per-Süddeutsche Online | Online',\n",
       "       'flexion_mini|1|„Seitdem [[wehren|wehrte]] er sich gegen seine [[Auslieferung]]. Doch auch nach der [[jüngst]]en [[Entscheidung]] will der ''schwergewichtige'' Deutsche nicht [[aufgeben]].“<ref>{{Per-Deutsche Welle | Online',\n",
       "       'flexion_mini|1, 2|„Der Telliring ist ein [[kreisrund]]er ''Grasplatz'' in der [[Schweizer]] [[Stadt]] [[Aarau]], der als die [[erste]] [[öffentlich]]e [[Turnanlage]] der [[Schweiz]] [[gelten|gilt]].“<ref>{{Wikipedia|Telliring|oldid',\n",
       "       'flexion_mini|1|„Offene Strings haften an ''Branen'' […]“<ref name'],\n",
       "      dtype='object', length=354)"
      ]
     },
     "execution_count": 10,
     "metadata": {},
     "output_type": "execute_result"
    }
   ],
   "source": [
    "de_records_pd.columns"
   ]
  },
  {
   "cell_type": "code",
   "execution_count": 14,
   "id": "5fccd762-eeb5-4419-b55f-a2d3b3288886",
   "metadata": {
    "execution": {
     "iopub.execute_input": "2023-02-25T23:29:37.544592Z",
     "iopub.status.busy": "2023-02-25T23:29:37.544059Z",
     "iopub.status.idle": "2023-02-25T23:29:37.550670Z",
     "shell.execute_reply": "2023-02-25T23:29:37.550001Z",
     "shell.execute_reply.started": "2023-02-25T23:29:37.544585Z"
    }
   },
   "outputs": [],
   "source": [
    "column_analysis_pd = pd.DataFrame(\n",
    "    [\n",
    "        {\n",
    "            \"colname\": col_i,\n",
    "            \"len\": len(col_i),\n",
    "            \"levels\": len(\n",
    "                [char_j for char_j in col_i if char_j == \"_\"]\n",
    "            )\n",
    "        }\n",
    "        for col_i in de_records_pd.columns\n",
    "    ]\n",
    ")"
   ]
  },
  {
   "cell_type": "code",
   "execution_count": 15,
   "id": "efedaf86-c99f-478c-a524-5f96fa3d1fde",
   "metadata": {
    "execution": {
     "iopub.execute_input": "2023-02-25T23:29:38.416855Z",
     "iopub.status.busy": "2023-02-25T23:29:38.416214Z",
     "iopub.status.idle": "2023-02-25T23:29:38.425442Z",
     "shell.execute_reply": "2023-02-25T23:29:38.424596Z",
     "shell.execute_reply.started": "2023-02-25T23:29:38.416823Z"
    }
   },
   "outputs": [
    {
     "data": {
      "text/html": [
       "<div>\n",
       "<style scoped>\n",
       "    .dataframe tbody tr th:only-of-type {\n",
       "        vertical-align: middle;\n",
       "    }\n",
       "\n",
       "    .dataframe tbody tr th {\n",
       "        vertical-align: top;\n",
       "    }\n",
       "\n",
       "    .dataframe thead th {\n",
       "        text-align: right;\n",
       "    }\n",
       "</style>\n",
       "<table border=\"1\" class=\"dataframe\">\n",
       "  <thead>\n",
       "    <tr style=\"text-align: right;\">\n",
       "      <th></th>\n",
       "      <th>colname</th>\n",
       "      <th>len</th>\n",
       "      <th>levels</th>\n",
       "    </tr>\n",
       "  </thead>\n",
       "  <tbody>\n",
       "    <tr>\n",
       "      <th>0</th>\n",
       "      <td>title</td>\n",
       "      <td>5</td>\n",
       "      <td>0</td>\n",
       "    </tr>\n",
       "    <tr>\n",
       "      <th>1</th>\n",
       "      <td>lemma</td>\n",
       "      <td>5</td>\n",
       "      <td>0</td>\n",
       "    </tr>\n",
       "    <tr>\n",
       "      <th>2</th>\n",
       "      <td>inflected</td>\n",
       "      <td>9</td>\n",
       "      <td>0</td>\n",
       "    </tr>\n",
       "    <tr>\n",
       "      <th>3</th>\n",
       "      <td>lang</td>\n",
       "      <td>4</td>\n",
       "      <td>0</td>\n",
       "    </tr>\n",
       "    <tr>\n",
       "      <th>4</th>\n",
       "      <td>lang_code</td>\n",
       "      <td>9</td>\n",
       "      <td>1</td>\n",
       "    </tr>\n",
       "  </tbody>\n",
       "</table>\n",
       "</div>"
      ],
      "text/plain": [
       "     colname  len  levels\n",
       "0      title    5       0\n",
       "1      lemma    5       0\n",
       "2  inflected    9       0\n",
       "3       lang    4       0\n",
       "4  lang_code    9       1"
      ]
     },
     "execution_count": 15,
     "metadata": {},
     "output_type": "execute_result"
    }
   ],
   "source": [
    "column_analysis_pd.head()"
   ]
  },
  {
   "cell_type": "code",
   "execution_count": 17,
   "id": "10ee7caf-6533-4a9f-b65a-cff9113c6eb9",
   "metadata": {
    "execution": {
     "iopub.execute_input": "2023-02-25T23:31:09.718264Z",
     "iopub.status.busy": "2023-02-25T23:31:09.717632Z",
     "iopub.status.idle": "2023-02-25T23:31:11.242306Z",
     "shell.execute_reply": "2023-02-25T23:31:11.241506Z",
     "shell.execute_reply.started": "2023-02-25T23:31:09.718234Z"
    }
   },
   "outputs": [
    {
     "data": {
      "text/plain": [
       "<AxesSubplot:xlabel='len', ylabel='levels'>"
      ]
     },
     "execution_count": 17,
     "metadata": {},
     "output_type": "execute_result"
    },
    {
     "data": {
      "image/png": "[encoded data removed]",
      "text/plain": [
       "<Figure size 432x288 with 1 Axes>"
      ]
     },
     "metadata": {
      "needs_background": "light"
     },
     "output_type": "display_data"
    }
   ],
   "source": [
    "import seaborn as sns\n",
    "\n",
    "sns.scatterplot(\n",
    "    x=\"len\", y=\"levels\", data=column_analysis_pd\n",
    ")"
   ]
  },
  {
   "cell_type": "code",
   "execution_count": 19,
   "id": "ab90dae2-fd85-4028-95c6-dc67c999b0d8",
   "metadata": {
    "execution": {
     "iopub.execute_input": "2023-02-25T23:32:13.949840Z",
     "iopub.status.busy": "2023-02-25T23:32:13.949239Z",
     "iopub.status.idle": "2023-02-25T23:32:14.119934Z",
     "shell.execute_reply": "2023-02-25T23:32:14.119275Z",
     "shell.execute_reply.started": "2023-02-25T23:32:13.949810Z"
    }
   },
   "outputs": [
    {
     "data": {
      "text/plain": [
       "<AxesSubplot:xlabel='len', ylabel='Count'>"
      ]
     },
     "execution_count": 19,
     "metadata": {},
     "output_type": "execute_result"
    },
    {
     "data": {
      "image/png": "[encoded data removed]",
      "text/plain": [
       "<Figure size 432x288 with 1 Axes>"
      ]
     },
     "metadata": {
      "needs_background": "light"
     },
     "output_type": "display_data"
    }
   ],
   "source": [
    "sns.histplot(\n",
    "    column_analysis_pd[\"len\"]\n",
    ")"
   ]
  },
  {
   "cell_type": "code",
   "execution_count": 22,
   "id": "3deaa4b8-19d2-4a4b-8119-df1047ebc92c",
   "metadata": {
    "execution": {
     "iopub.execute_input": "2023-02-25T23:34:37.561231Z",
     "iopub.status.busy": "2023-02-25T23:34:37.560908Z",
     "iopub.status.idle": "2023-02-25T23:34:37.567032Z",
     "shell.execute_reply": "2023-02-25T23:34:37.566240Z",
     "shell.execute_reply.started": "2023-02-25T23:34:37.561207Z"
    }
   },
   "outputs": [
    {
     "name": "stdout",
     "output_type": "stream",
     "text": [
      "Columns with less than 40 chars:  ['title', 'lemma', 'inflected', 'lang', 'lang_code', 'syllables', 'pos_Substantiv', 'ipa', 'rhymes', 'flexion_Genus', 'flexion_Nominativ Singular', 'flexion_Nominativ Plural', 'flexion_Genitiv Singular', 'flexion_Genitiv Plural', 'flexion_Dativ Singular', 'flexion_Dativ Plural', 'flexion_Akkusativ Singular', 'flexion_Akkusativ Plural', 'flexion_Nominativ Plural 1', 'flexion_Nominativ Plural 2', 'flexion_Genitiv Plural 1', 'flexion_Genitiv Plural 2', 'flexion_Dativ Plural 1', 'flexion_Dativ Plural 2', 'flexion_Akkusativ Plural 1', 'flexion_Akkusativ Plural 2', 'flexion_Genitiv Singular*', 'flexion_Genitiv Singular**', 'flexion_Dativ Singular*', 'pos_Pronomen', 'pos_Verb', 'flexion_Präsens_ich', 'flexion_Präsens_du', 'flexion_Präsens_er, sie, es', 'flexion_Präteritum_ich', 'flexion_Partizip II', 'flexion_Konjunktiv II_ich', 'flexion_Imperativ Singular', 'flexion_Imperativ Plural', 'flexion_Hilfsverb', 'pos_Deklinierte Form', 'pos_Adjektiv', 'flexion_Positiv', 'flexion_Komparativ', 'flexion_Superlativ', 'pos_Partikel', 'flexion_keine weiteren Formen', 'flexion_ Autor', 'flexion_ Titel', 'flexion_ Tag', 'flexion_ Monat', 'flexion_ Jahr', 'flexion_ Zugriff', 'flexion_ Kommentar', 'flexion_Präteritum_ich*', 'flexion_Partizip II*', 'flexion_Konjunktiv II_ich*', 'pos_Abkürzung', 'pos_Adverb', 'pos_Wortverbindung', 'flexion_Komparativ*', 'flexion_Superlativ*', 'flexion_Imperativ Plural*', 'pos_Gebundenes Lexem', 'flexion_Imperativ Singular*', 'flexion_Hilfsverb*', 'flexion_Genus 1', 'flexion_Genus 2', 'flexion_Nominativ Singular 1', 'flexion_Nominativ Singular 2', 'flexion_Genitiv Singular 1', 'flexion_Genitiv Singular 2', 'flexion_Genitiv Singular 1*', 'flexion_Genitiv Singular 2*', 'flexion_Dativ Singular 1', 'flexion_Dativ Singular 1*', 'flexion_Dativ Singular 2', 'flexion_Dativ Singular 2*', 'flexion_Akkusativ Singular 1', 'flexion_Akkusativ Singular 2', 'pos_Symbol', 'flexion_Nominativ Plural*', 'flexion_Genitiv Plural*', 'flexion_Dativ Plural*', 'flexion_Akkusativ Plural*', 'flexion_Präsens_ich*', 'flexion_unpersönlich', 'flexion_Nominativ Plural 3', 'flexion_Genitiv Plural 3', 'flexion_Dativ Plural 3', 'flexion_Akkusativ Plural 3', 'pos_Redewendung', 'flexion_Stamm', 'pos_Adposition', 'flexion_Genitiv Singular 1 ', 'flexion_Genitiv Singular 2 ', 'flexion_Präsens_ich**', 'flexion_Nominativ Plural 4', 'flexion_Genitiv Plural 4', 'flexion_Dativ Plural 4', 'flexion_Akkusativ Plural 4', 'pos_Kontraktion', 'flexion_Nominativ Plural**', 'flexion_Genitiv Plural**', 'flexion_Akkusativ Plural**', 'flexion_Imperativ Singular**', 'pos_Konjunktion', 'pos_Affix', 'flexion_Genitiv', 'flexion_Dativ*', 'flexion_Akkusativ*', 'flexion_Nominativ Plural 1*', 'flexion_Genitiv Plural 1*', 'flexion_Dativ Plural 1*', 'flexion_Akkusativ Plural 1*', 'pos_Numerale', 'flexion_Präsens_du*', 'flexion_Präsens_er, sie, es*', 'flexion_Nominativ Plural stark', 'flexion_Genitiv Plural stark', 'flexion_Dativ Plural stark', 'flexion_Akkusativ Plural stark', 'flexion_Nominativ Plural schwach', 'flexion_Genitiv Plural schwach', 'flexion_Dativ Plural schwach', 'flexion_Akkusativ Plural schwach', 'flexion_Nominativ Plural gemischt', 'flexion_Genitiv Plural gemischt', 'flexion_Dativ Plural gemischt', 'flexion_Akkusativ Plural gemischt', 'flexion_kein Singular', 'flexion_Genitiv Singula*r', 'flexion_Akkusativ Singular*', 'flexion_Genus 3', 'flexion_Nominativ Singular 3', 'flexion_Genitiv Singular 3', 'flexion_Dativ Singular 3', 'flexion_Akkusativ Singular 3', 'pos_Artikel', 'flexion_Nominativ Singular stark', 'flexion_Genitiv Singular stark', 'flexion_Dativ Singular stark', 'flexion_Akkusativ Singular stark', 'flexion_Nominativ Singular schwach', 'flexion_Genitiv Singular schwach', 'flexion_Dativ Singular schwach', 'flexion_Akkusativ Singular schwach', 'flexion_Nominativ Singular gemischt', 'flexion_Genitiv Singular gemischt', 'flexion_Dativ Singular gemischt', 'flexion_Akkusativ Singular gemischt', 'flexion_Dativ Singular**', 'flexion_mini|Bildbezug 3', 'flexion_Titel', 'flexion_Verlag', 'flexion_Ort', 'flexion_Jahr', 'flexion_Seiten', 'flexion_kein Plural', 'flexion_Genitiv Singular stark*', 'flexion_Genitiv Singular schwach*', 'flexion_Genitiv Singular gemischt*', 'pos_Sprichwort', 'flexion_am', 'flexion_ Bild', 'flexion_Konjunktiv II_ich**', 'flexion_Kein-ens', 'flexion_Nominativ Plural 2*', 'flexion_Genitiv Plural 2*', 'flexion_Dativ Plural 2*', 'flexion_Akkusativ Plural 2*', 'flexion_Genitiv Singular 1**', 'flexion_Hilfsverb2', 'flexion_Nominativ Plural 1 ', 'flexion_Nominativ Plural 2 ', 'flexion_Nominativ Singular*', 'pos_Geflügeltes Wort', 'flexion_ Online', 'flexion_Konjunktiv I_ich', 'pos_Ortsnamengrundwort', 'flexion_Präsens_du**', 'flexion_Dativ Plural**', 'flexion_Dativ Singular stark*', 'flexion_Dativ Singular schwach*', 'flexion_Dativ Singular gemischt*', 'flexion_Nominativ Plural ', 'flexion_Genitiv Plural ', 'flexion_Dativ Plural ', 'flexion_Akkusativ Plural ', 'flexion_Imperativ Singular***', 'pos_Merkspruch', 'flexion_spr', 'flexion_Weitere_Konjugationen', 'flexion_Präsens_er, sie, es**', 'flexion_Präteritum_ich**', 'flexion_Konjunktiv II_ich***', 'flexion_Imperativ Plural**', 'pos_Formel', 'flexion_Akkusativ Singular 1*', 'flexion_Komparativ**', 'flexion_Imperativ Singular 2', 'flexion_ titel', 'flexion_ hrsg', 'flexion_ zugriff', 'flexion_Genitiv Singular 2**', 'flexion_mini|1|1 <nowiki>', 'flexion_mini|1||Bildbeschreibung', 'flexion_ autor', 'flexion_ datum', 'flexion_Präsens_er, sie, es ', 'flexion_Konjunktiv II_ich ', 'flexion_mini|Bildbezug', 'flexion_Nominativ Plural stark*', 'flexion_mini|2|Bildbeschreibung', 'flexion_Partizip I', 'flexion_Dativ Singular 1**', 'flexion_Superlativ**', 'flexion_ Bild 1', 'flexion_mini|1|Bildbeschreibung', 'flexion_3', 'flexion_2', 'flexion_Genus ', 'flexion_Nominativ Singular ', 'flexion_Genitiv Singular ', 'flexion_Dativ Singular ', 'flexion_Akkusativ Singular ', 'flexion_ TitelErg', 'flexion_Partizip II**', 'flexion_Genitiv 1', 'flexion_Genitiv 2', 'flexion_Genitiv Plural 1 ', 'flexion_Genitiv Plural 2 ', 'flexion_Genus 4', 'flexion_Nominativ Singular 4', 'flexion_Genitiv Singular 4', 'flexion_Dativ Singular 4', 'flexion_Akkusativ Singular 4', 'flexion_ Verlag', 'flexion_ Ort', 'flexion_ Originalsprache', 'flexion_ ISBN', 'flexion_Genitiv Singular 3*', 'flexion_Akkusativ Singular 2*', 'flexion_Dativ Singular 3*', 'flexion_Akkusativ Singular 3*', 'flexion_Genus 2 ', 'flexion_120px|Bildbezug 1', 'flexion_ sprache', 'flexion_ Datum', 'flexion_Dativ Plural 2 ', 'flexion_Akkusativ Plural 2 ', 'flexion_Dativ Plural 1 ', 'flexion_|Genitiv Singular*', 'flexion_ kommentar', 'flexion_genitiv Singular*']\n"
     ]
    }
   ],
   "source": [
    "print(\n",
    "    \"Columns with less than 40 chars: \",\n",
    "    list(\n",
    "        column_analysis_pd[column_analysis_pd[\"len\"] < 40][\"colname\"]\n",
    "    )\n",
    ")"
   ]
  },
  {
   "cell_type": "code",
   "execution_count": null,
   "id": "69993a62-ee2c-4ac6-a211-df596de52f5f",
   "metadata": {},
   "outputs": [],
   "source": [
    "# Analizar los valores en local, vamos a buscar aquellas columnas en las que haya una frequencia\n",
    "# baja de nulos (sacamos las distribucion de nulos por columna y con eso ya nos da una pista de como filtrar)"
   ]
  }
 ],
 "metadata": {
  "kernelspec": {
   "display_name": "Python 3",
   "language": "python",
   "name": "python3"
  },
  "language_info": {
   "codemirror_mode": {
    "name": "ipython",
    "version": 3
   },
   "file_extension": ".py",
   "mimetype": "text/x-python",
   "name": "python",
   "nbconvert_exporter": "python",
   "pygments_lexer": "ipython3",
   "version": "3.8.10"
  },
  "vscode": {
   "interpreter": {
    "hash": "31f2aee4e71d21fbe5cf8b01ff0e069b9275f58929596ceb00d14d90e3e16cd6"
   }
  }
 },
 "nbformat": 4,
 "nbformat_minor": 5
}
